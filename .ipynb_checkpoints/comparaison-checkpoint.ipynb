{
 "cells": [
  {
   "cell_type": "code",
   "execution_count": 2,
   "id": "7c07190b",
   "metadata": {},
   "outputs": [],
   "source": [
    "import time\n",
    "import pandas as pd\n",
    "from pykafka import KafkaClient\n",
    "from kafka3 import KafkaProducer\n",
    "from kafka3 import KafkaConsumer\n",
    "import confluent_kafka\n",
    "import uuid\n",
    "import pandas as pd\n",
    "import seaborn as sns\n",
    "import matplotlib.pyplot as plt\n",
    "%matplotlib inline\n"
   ]
  },
  {
   "cell_type": "markdown",
   "id": "2a386c27",
   "metadata": {},
   "source": [
    "# Communities comparison"
   ]
  },
  {
   "cell_type": "markdown",
   "id": "dca0888f",
   "metadata": {},
   "source": [
    "Pykafka : https://github.com/Parsely/pykafka  \n",
    "Kafka Python : https://github.com/dpkp/kafka-python/  \n",
    "Confluent Kafka : https://github.com/confluentinc/confluent-kafka-python\n"
   ]
  },
  {
   "cell_type": "code",
   "execution_count": 5,
   "id": "6fc5a42a",
   "metadata": {
    "scrolled": true
   },
   "outputs": [
    {
     "data": {
      "text/html": [
       "<div>\n",
       "<style scoped>\n",
       "    .dataframe tbody tr th:only-of-type {\n",
       "        vertical-align: middle;\n",
       "    }\n",
       "\n",
       "    .dataframe tbody tr th {\n",
       "        vertical-align: top;\n",
       "    }\n",
       "\n",
       "    .dataframe thead th {\n",
       "        text-align: right;\n",
       "    }\n",
       "</style>\n",
       "<table border=\"1\" class=\"dataframe\">\n",
       "  <thead>\n",
       "    <tr style=\"text-align: right;\">\n",
       "      <th></th>\n",
       "      <th>Pykafka</th>\n",
       "      <th>Kafka Python</th>\n",
       "      <th>Confluent Kafka</th>\n",
       "    </tr>\n",
       "  </thead>\n",
       "  <tbody>\n",
       "    <tr>\n",
       "      <th>Latest release</th>\n",
       "      <td>25/09/2018</td>\n",
       "      <td>03/09/2020</td>\n",
       "      <td>03/08/2022</td>\n",
       "    </tr>\n",
       "    <tr>\n",
       "      <th>Github Stars</th>\n",
       "      <td>1.1K</td>\n",
       "      <td>5.1K</td>\n",
       "      <td>3.1K</td>\n",
       "    </tr>\n",
       "    <tr>\n",
       "      <th>Github Forks</th>\n",
       "      <td>230</td>\n",
       "      <td>1.3K</td>\n",
       "      <td>808</td>\n",
       "    </tr>\n",
       "    <tr>\n",
       "      <th>Python compatibility</th>\n",
       "      <td>3.4</td>\n",
       "      <td>3.7</td>\n",
       "      <td>3.11</td>\n",
       "    </tr>\n",
       "  </tbody>\n",
       "</table>\n",
       "</div>"
      ],
      "text/plain": [
       "                         Pykafka Kafka Python Confluent Kafka\n",
       "Latest release        25/09/2018   03/09/2020      03/08/2022\n",
       "Github Stars                1.1K         5.1K            3.1K\n",
       "Github Forks                 230         1.3K             808\n",
       "Python compatibility         3.4          3.7            3.11"
      ]
     },
     "execution_count": 5,
     "metadata": {},
     "output_type": "execute_result"
    }
   ],
   "source": [
    "pd.DataFrame([['25/09/2018', '03/09/2020','03/08/2022'],['1.1K', '5.1K','3.1K'],['230', '1.3K','808'],['3.4', '3.7','3.11']],\n",
    "             columns=['Pykafka','Kafka Python','Confluent Kafka'],\n",
    "            index=['Latest release','Github Stars','Github Forks','Python compatibility'])"
   ]
  },
  {
   "cell_type": "markdown",
   "id": "21292665",
   "metadata": {},
   "source": [
    "#  Performance comparison "
   ]
  },
  {
   "cell_type": "code",
   "execution_count": 6,
   "id": "a3c975fe",
   "metadata": {},
   "outputs": [],
   "source": [
    "bootstrap_servers = 'localhost:9092'\n",
    "producer_timings = {}\n",
    "consumer_timings = {}"
   ]
  },
  {
   "cell_type": "code",
   "execution_count": 7,
   "id": "36557600",
   "metadata": {},
   "outputs": [
    {
     "name": "stdout",
     "output_type": "stream",
     "text": [
      "b'benchkafkabenchkafkabenchkafkabenchkafkabenchkafkabenchkafkabenchkafkabenchkafkabenchkafkabenchkafkabenchkafkabenchkafkabenchkafkabenchkafkabenchkafkabenchkafkabenchkafkabenchkafkabenchkafkabenchkafka'\n",
      "200\n"
     ]
    }
   ],
   "source": [
    "msg_count = 1_000_000\n",
    "msg_size = 200\n",
    "msg_payload = ('benchkafka' * 20).encode()[:msg_size]\n",
    "print(msg_payload)\n",
    "print(len(msg_payload))"
   ]
  },
  {
   "cell_type": "code",
   "execution_count": 8,
   "id": "bf13e711",
   "metadata": {},
   "outputs": [],
   "source": [
    "def calculate_thoughput(timing, n_messages=1000000, msg_size=100):\n",
    "    print(\"Processed {0} messsages in {1:.2f} seconds\".format(n_messages, timing))\n",
    "    print(\"{0:.2f} MB/s\".format((msg_size * n_messages) / timing / (1024*1024)))\n",
    "    print(\"{0:.2f} Msgs/s\".format(n_messages / timing))"
   ]
  },
  {
   "cell_type": "markdown",
   "id": "70f67b94",
   "metadata": {},
   "source": [
    "## Pykafka"
   ]
  },
  {
   "cell_type": "code",
   "execution_count": 11,
   "id": "579ad03c",
   "metadata": {},
   "outputs": [],
   "source": [
    "\n",
    "def pykafka_producer_performance(use_rdkafka=False):\n",
    "    \n",
    "    # Setup client\n",
    "    client = KafkaClient(hosts=bootstrap_servers)\n",
    "    topic = client.topics[b'pykafka-test-topic']\n",
    "    producer = topic.get_producer(use_rdkafka=use_rdkafka)\n",
    "\n",
    "    msgs_produced = 0\n",
    "    produce_start = time.time()\n",
    "    for i in range(msg_count):\n",
    "        # Start producing\n",
    "        producer.produce(msg_payload) \n",
    "                     \n",
    "    producer.stop() # Will flush background queue\n",
    " \n",
    "    return time.time() - produce_start\n"
   ]
  },
  {
   "cell_type": "code",
   "execution_count": 12,
   "id": "5d7b0b4e",
   "metadata": {},
   "outputs": [
    {
     "name": "stdout",
     "output_type": "stream",
     "text": [
      "Processed 1000000 messsages in 25.77 seconds\n",
      "3.70 MB/s\n",
      "38805.50 Msgs/s\n"
     ]
    }
   ],
   "source": [
    "client = KafkaClient(hosts=bootstrap_servers)\n",
    "producer_timings['pykafka'] = pykafka_producer_performance()\n",
    "calculate_thoughput(producer_timings['pykafka'])"
   ]
  },
  {
   "cell_type": "code",
   "execution_count": 13,
   "id": "4a08d549",
   "metadata": {},
   "outputs": [],
   "source": [
    "def pykafka_consumer_performance(use_rdkafka=False):\n",
    "    # Setup client\n",
    "    client = KafkaClient(hosts=bootstrap_servers)\n",
    "    topic = client.topics[b'pykafka-test-topic']\n",
    "\n",
    "    msg_consumed_count = 0\n",
    "    \n",
    "    consumer_start = time.time()\n",
    "    # Consumer starts polling messages in background thread, need to start timer here\n",
    "    consumer = topic.get_simple_consumer(use_rdkafka=use_rdkafka)\n",
    "\n",
    "    while True:\n",
    "        msg = consumer.consume()\n",
    "        if msg:\n",
    "            msg_consumed_count += 1\n",
    "\n",
    "        if msg_consumed_count >= msg_count:\n",
    "            break\n",
    "                        \n",
    "    consumer_timing = time.time() - consumer_start\n",
    "    consumer.stop()    \n",
    "    return consumer_timing"
   ]
  },
  {
   "cell_type": "code",
   "execution_count": 14,
   "id": "4aec7023",
   "metadata": {},
   "outputs": [
    {
     "name": "stdout",
     "output_type": "stream",
     "text": [
      "Processed 1000000 messsages in 24.52 seconds\n",
      "3.89 MB/s\n",
      "40776.40 Msgs/s\n"
     ]
    }
   ],
   "source": [
    "consumer_timings['pykafka'] = pykafka_consumer_performance(use_rdkafka=False)\n",
    "calculate_thoughput(consumer_timings['pykafka'])"
   ]
  },
  {
   "cell_type": "markdown",
   "id": "a4193a64",
   "metadata": {},
   "source": [
    "## Kafka Python"
   ]
  },
  {
   "cell_type": "code",
   "execution_count": 15,
   "id": "7feb1a44",
   "metadata": {},
   "outputs": [],
   "source": [
    "def python_kafka_producer_performance():\n",
    "    producer = KafkaProducer(bootstrap_servers=bootstrap_servers)\n",
    "\n",
    "    producer_start = time.time()\n",
    "    topic = 'python-kafka-topic'\n",
    "    for i in range(msg_count):\n",
    "        producer.send(topic, msg_payload)\n",
    "        \n",
    "    producer.flush() # clear all local buffers and produce pending messages\n",
    "        \n",
    "    return time.time() - producer_start"
   ]
  },
  {
   "cell_type": "code",
   "execution_count": 16,
   "id": "34dd12b6",
   "metadata": {},
   "outputs": [
    {
     "name": "stdout",
     "output_type": "stream",
     "text": [
      "Processed 1000000 messsages in 110.95 seconds\n",
      "0.86 MB/s\n",
      "9013.06 Msgs/s\n"
     ]
    }
   ],
   "source": [
    "producer_timings['python_kafka'] = python_kafka_producer_performance()\n",
    "calculate_thoughput(producer_timings['python_kafka'])"
   ]
  },
  {
   "cell_type": "code",
   "execution_count": 17,
   "id": "e3d30db4",
   "metadata": {},
   "outputs": [],
   "source": [
    "\n",
    "def python_kafka_consumer_performance():\n",
    "    topic = 'python-kafka-topic'\n",
    "\n",
    "    consumer = KafkaConsumer(\n",
    "        bootstrap_servers=bootstrap_servers,\n",
    "        auto_offset_reset = 'earliest', # start at earliest topic\n",
    "        group_id = None # do no offest commit\n",
    "    )\n",
    "    msg_consumed_count = 0\n",
    "            \n",
    "    consumer_start = time.time()\n",
    "    consumer.subscribe([topic])\n",
    "    for msg in consumer:\n",
    "        msg_consumed_count += 1\n",
    "        \n",
    "        if msg_consumed_count >= msg_count:\n",
    "            break\n",
    "                    \n",
    "    consumer_timing = time.time() - consumer_start\n",
    "    consumer.close()    \n",
    "    return consumer_timing"
   ]
  },
  {
   "cell_type": "code",
   "execution_count": 18,
   "id": "5afd85b8",
   "metadata": {},
   "outputs": [
    {
     "name": "stdout",
     "output_type": "stream",
     "text": [
      "Processed 1000000 messsages in 14.81 seconds\n",
      "6.44 MB/s\n",
      "67518.43 Msgs/s\n"
     ]
    }
   ],
   "source": [
    "consumer_timings['python_kafka'] = python_kafka_consumer_performance()\n",
    "calculate_thoughput(consumer_timings['python_kafka'])"
   ]
  },
  {
   "cell_type": "markdown",
   "id": "5a721ef7",
   "metadata": {},
   "source": [
    "## Confluent Kafka"
   ]
  },
  {
   "cell_type": "code",
   "execution_count": 19,
   "id": "4bb9f943",
   "metadata": {},
   "outputs": [],
   "source": [
    "topic = 'confluent-kafka-topic'\n",
    "\n",
    "def confluent_kafka_producer_performance():\n",
    "    \n",
    "    topic = 'confluent-kafka-topic'\n",
    "    conf = {'bootstrap.servers': bootstrap_servers}\n",
    "    producer = confluent_kafka.Producer(**conf)\n",
    "    messages_to_retry = 0\n",
    "\n",
    "    producer_start = time.time()\n",
    "    for i in range(msg_count):\n",
    "        try:\n",
    "            producer.produce(topic, value=msg_payload)      \n",
    "        except BufferError as e:\n",
    "            messages_to_retry += 1\n",
    "\n",
    "    # hacky retry messages that over filled the local buffer\n",
    "    for i in range(messages_to_retry):\n",
    "        producer.poll(0)\n",
    "        try:\n",
    "            producer.produce(topic, value=msg_payload)\n",
    "        except BufferError as e:\n",
    "            producer.poll(0)\n",
    "            producer.produce(topic, value=msg_payload)\n",
    "\n",
    "    producer.flush()\n",
    "            \n",
    "    return time.time() - producer_start"
   ]
  },
  {
   "cell_type": "code",
   "execution_count": 20,
   "id": "af3a4d83",
   "metadata": {},
   "outputs": [
    {
     "data": {
      "text/plain": [
       "0"
      ]
     },
     "execution_count": 20,
     "metadata": {},
     "output_type": "execute_result"
    }
   ],
   "source": [
    "producer = confluent_kafka.Producer({'bootstrap.servers': bootstrap_servers})\n",
    "producer.flush()\n"
   ]
  },
  {
   "cell_type": "code",
   "execution_count": 21,
   "id": "3b0a0d8e",
   "metadata": {},
   "outputs": [
    {
     "name": "stdout",
     "output_type": "stream",
     "text": [
      "Processed 1000000 messsages in 3.11 seconds\n",
      "30.65 MB/s\n",
      "321432.51 Msgs/s\n"
     ]
    }
   ],
   "source": [
    "producer_timings['confluent_kafka'] = confluent_kafka_producer_performance()\n",
    "calculate_thoughput(producer_timings['confluent_kafka'])"
   ]
  },
  {
   "cell_type": "code",
   "execution_count": 22,
   "id": "68ab88d6",
   "metadata": {},
   "outputs": [
    {
     "name": "stdout",
     "output_type": "stream",
     "text": [
      "{0: OffsetPartitionResponse(offset=[0], err=0)}\n",
      "{0: OffsetPartitionResponse(offset=[10877671], err=0)}\n"
     ]
    }
   ],
   "source": [
    "client = KafkaClient(hosts=bootstrap_servers)\n",
    "topic = client.topics[b'confluent-kafka-topic']\n",
    "print(topic.earliest_available_offsets())\n",
    "print(topic.latest_available_offsets())"
   ]
  },
  {
   "cell_type": "code",
   "execution_count": 23,
   "id": "bcbd521c",
   "metadata": {},
   "outputs": [],
   "source": [
    "def confluent_kafka_consumer_performance():\n",
    "    \n",
    "    topic = 'confluent-kafka-topic'\n",
    "    msg_consumed_count = 0\n",
    "    conf = {'bootstrap.servers': bootstrap_servers,\n",
    "            'group.id': uuid.uuid1(),\n",
    "            'session.timeout.ms': 6000,\n",
    "            'default.topic.config': {\n",
    "                'auto.offset.reset': 'earliest'\n",
    "            }\n",
    "    }\n",
    "\n",
    "    consumer = confluent_kafka.Consumer(**conf)\n",
    "\n",
    "    consumer_start = time.time()\n",
    "    # This is the same as pykafka, subscribing to a topic will start a background thread\n",
    "    consumer.subscribe([topic])\n",
    "\n",
    "    while True:\n",
    "        msg = consumer.poll(1)\n",
    "        if msg:\n",
    "            msg_consumed_count += 1\n",
    "                         \n",
    "        if msg_consumed_count >= msg_count:\n",
    "            break\n",
    "                    \n",
    "    consumer_timing = time.time() - consumer_start\n",
    "    consumer.close()    \n",
    "    return consumer_timing"
   ]
  },
  {
   "cell_type": "code",
   "execution_count": 24,
   "id": "3af1ecbe",
   "metadata": {},
   "outputs": [
    {
     "name": "stdout",
     "output_type": "stream",
     "text": [
      "Processed 1000000 messsages in 4.57 seconds\n",
      "20.87 MB/s\n",
      "218809.63 Msgs/s\n"
     ]
    }
   ],
   "source": [
    "#_ = confluent_kafka_consumer_performance() # Warm cache\n",
    "consumer_timings['confluent_kafka'] = confluent_kafka_consumer_performance()\n",
    "calculate_thoughput(consumer_timings['confluent_kafka'])"
   ]
  },
  {
   "cell_type": "markdown",
   "id": "98c95e2e",
   "metadata": {},
   "source": [
    "## Dataframes"
   ]
  },
  {
   "cell_type": "code",
   "execution_count": 27,
   "id": "abd6fb45",
   "metadata": {},
   "outputs": [],
   "source": [
    "consumer_df = pd.DataFrame.from_dict(consumer_timings, orient='index').rename(columns={0: 'time_in_seconds'})\n",
    "producer_df = pd.DataFrame.from_dict(producer_timings, orient='index').rename(columns={0: 'time_in_seconds'})\n",
    "consumer_df['MBs/s'] = (len(msg_payload) * msg_count) / consumer_df.time_in_seconds / (1024*1024)\n",
    "producer_df['MBs/s'] = (len(msg_payload) * msg_count) / producer_df.time_in_seconds / (1024*1024)\n",
    "consumer_df['Msgs/s'] = msg_count / consumer_df.time_in_seconds\n",
    "producer_df['Msgs/s'] = msg_count / producer_df.time_in_seconds"
   ]
  },
  {
   "cell_type": "code",
   "execution_count": 28,
   "id": "eea6d0ff",
   "metadata": {},
   "outputs": [
    {
     "data": {
      "text/html": [
       "<div>\n",
       "<style scoped>\n",
       "    .dataframe tbody tr th:only-of-type {\n",
       "        vertical-align: middle;\n",
       "    }\n",
       "\n",
       "    .dataframe tbody tr th {\n",
       "        vertical-align: top;\n",
       "    }\n",
       "\n",
       "    .dataframe thead th {\n",
       "        text-align: right;\n",
       "    }\n",
       "</style>\n",
       "<table border=\"1\" class=\"dataframe\">\n",
       "  <thead>\n",
       "    <tr style=\"text-align: right;\">\n",
       "      <th></th>\n",
       "      <th>time_in_seconds</th>\n",
       "      <th>MBs/s</th>\n",
       "      <th>Msgs/s</th>\n",
       "    </tr>\n",
       "  </thead>\n",
       "  <tbody>\n",
       "    <tr>\n",
       "      <th>pykafka</th>\n",
       "      <td>25.769545</td>\n",
       "      <td>7.401561</td>\n",
       "      <td>38805.496836</td>\n",
       "    </tr>\n",
       "    <tr>\n",
       "      <th>python_kafka</th>\n",
       "      <td>110.950164</td>\n",
       "      <td>1.719104</td>\n",
       "      <td>9013.055621</td>\n",
       "    </tr>\n",
       "    <tr>\n",
       "      <th>confluent_kafka</th>\n",
       "      <td>3.111073</td>\n",
       "      <td>61.308385</td>\n",
       "      <td>321432.507208</td>\n",
       "    </tr>\n",
       "  </tbody>\n",
       "</table>\n",
       "</div>"
      ],
      "text/plain": [
       "                 time_in_seconds      MBs/s         Msgs/s\n",
       "pykafka                25.769545   7.401561   38805.496836\n",
       "python_kafka          110.950164   1.719104    9013.055621\n",
       "confluent_kafka         3.111073  61.308385  321432.507208"
      ]
     },
     "execution_count": 28,
     "metadata": {},
     "output_type": "execute_result"
    }
   ],
   "source": [
    "#producer_df.sort_index(inplace=True)\n",
    "producer_df"
   ]
  },
  {
   "cell_type": "markdown",
   "id": "9c4a03de",
   "metadata": {},
   "source": [
    "## Graphic comparison (plots)"
   ]
  },
  {
   "cell_type": "markdown",
   "id": "5fec02a4",
   "metadata": {},
   "source": [
    "### Megabyte and messages number per second"
   ]
  },
  {
   "cell_type": "code",
   "execution_count": 29,
   "id": "468643a0",
   "metadata": {},
   "outputs": [],
   "source": [
    "producer_df['k Msgs/s'] = producer_df['Msgs/s']/1000\n",
    "consumer_df['k Msgs/s'] = consumer_df['Msgs/s']/1000"
   ]
  },
  {
   "cell_type": "code",
   "execution_count": 33,
   "id": "54112545",
   "metadata": {},
   "outputs": [
    {
     "data": {
      "image/png": "[encoded data removed]",
      "text/plain": [
       "<Figure size 1000x500 with 2 Axes>"
      ]
     },
     "metadata": {},
     "output_type": "display_data"
    }
   ],
   "source": [
    "fig, axes = plt.subplots(nrows=1, ncols=2)\n",
    "ax = producer_df[['MBs/s','k Msgs/s']].plot(kind='barh',\\\n",
    "                                             ylabel='Python libraries',\\\n",
    "                                            title='Sending Messages',\\\n",
    "                                            figsize=(10, 5),ax=axes[0])\n",
    "ax.set(xlabel='')\n",
    "\n",
    "for c in ax.containers:\n",
    "    ax.bar_label(c, fmt='%.0f', label_type='edge')    \n",
    "ax.margins(x=0.1)\n",
    "ax.get_legend().remove()\n",
    "\n",
    "\n",
    "\n",
    "ax = consumer_df[['MBs/s','k Msgs/s']].plot(kind='barh',\\\n",
    "                                            ylabel='',\\\n",
    "                                            title='Receiving Messages',\\\n",
    "                                            figsize=(10, 5),ax=axes[1])\n",
    "\n",
    "\n",
    "for c in ax.containers:\n",
    "    ax.bar_label(c, fmt='%.0f', label_type='edge') \n",
    "ax.margins(x=0.1)\n",
    "ax.legend(title='', bbox_to_anchor=(1, 1.02), loc='upper left')\n",
    "ax.get_yaxis().set_visible(False)\n"
   ]
  },
  {
   "cell_type": "markdown",
   "id": "b42f65da",
   "metadata": {},
   "source": [
    "### Reception and sending time"
   ]
  },
  {
   "cell_type": "code",
   "execution_count": 34,
   "id": "7e9d608f",
   "metadata": {},
   "outputs": [],
   "source": [
    "df_time = pd.DataFrame([producer_df['time_in_seconds'],\\\n",
    "                        consumer_df['time_in_seconds']],\\\n",
    "                       index=['Producer (reception)','Consumer (sending)'])"
   ]
  },
  {
   "cell_type": "code",
   "execution_count": 35,
   "id": "7ef2a6e8",
   "metadata": {},
   "outputs": [
    {
     "data": {
      "text/plain": [
       "<matplotlib.legend.Legend at 0x12a6a4f10>"
      ]
     },
     "execution_count": 35,
     "metadata": {},
     "output_type": "execute_result"
    },
    {
     "data": {
      "image/png": "[encoded data removed]",
      "text/plain": [
       "<Figure size 500x400 with 1 Axes>"
      ]
     },
     "metadata": {},
     "output_type": "display_data"
    }
   ],
   "source": [
    "ax = pd.DataFrame(df_time)\\\n",
    ".plot(kind='barh', title='Time in seconds', figsize=(5, 4))\n",
    "ax.set(xlabel='')\n",
    "\n",
    "for c in ax.containers:\n",
    "    ax.bar_label(c, fmt='%.0f', label_type='edge')\n",
    "    \n",
    "ax.margins(x=0.1)\n",
    "\n",
    "ax.legend(title='', bbox_to_anchor=(1, 1.02), loc='upper left')"
   ]
  },
  {
   "cell_type": "markdown",
   "id": "d12ec272",
   "metadata": {},
   "source": [
    "# Explications"
   ]
  },
  {
   "cell_type": "markdown",
   "id": "74c50399",
   "metadata": {},
   "source": [
    "Confluent Kafka is a Python wrapper around the librdkafka C library, so you have the guarantee it's going to be the most performant and compatible option."
   ]
  },
  {
   "cell_type": "markdown",
   "id": "c2a66e8e",
   "metadata": {},
   "source": [
    " Kafka python is implemented fully in python. Slow speed performance."
   ]
  },
  {
   "cell_type": "markdown",
   "id": "4096721a",
   "metadata": {},
   "source": [
    "Sources : https://towardsdatascience.com/3-libraries-you-should-know-to-master-apache-kafka-in-python-c95fdf8700f2  \n",
    "https://stackoverflow.com/questions/73049329/python-kafka-consumer-library-that-supports-scalability-and-recoverability\n",
    "http://activisiongamescience.github.io/2016/06/15/Kafka-Client-Benchmarking/"
   ]
  }
 ],
 "metadata": {
  "kernelspec": {
   "display_name": "Python 3 (ipykernel)",
   "language": "python",
   "name": "python3"
  },
  "language_info": {
   "codemirror_mode": {
    "name": "ipython",
    "version": 3
   },
   "file_extension": ".py",
   "mimetype": "text/x-python",
   "name": "python",
   "nbconvert_exporter": "python",
   "pygments_lexer": "ipython3",
   "version": "3.10.6"
  },
  "toc": {
   "base_numbering": 1,
   "nav_menu": {},
   "number_sections": true,
   "sideBar": true,
   "skip_h1_title": false,
   "title_cell": "Table of Contents",
   "title_sidebar": "Contents",
   "toc_cell": false,
   "toc_position": {},
   "toc_section_display": true,
   "toc_window_display": false
  }
 },
 "nbformat": 4,
 "nbformat_minor": 5
}
