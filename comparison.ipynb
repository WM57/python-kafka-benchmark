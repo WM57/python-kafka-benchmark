{
 "cells": [
  {
   "cell_type": "code",
   "execution_count": 1,
   "id": "7c07190b",
   "metadata": {},
   "outputs": [],
   "source": [
    "import time\n",
    "import requests\n",
    "\n",
    "import pandas as pd\n",
    "import seaborn as sns\n",
    "import matplotlib.pyplot as plt\n",
    "%matplotlib inline\n",
    "\n",
    "from bs4 import BeautifulSoup\n",
    "import uuid\n",
    "from pykafka import KafkaClient\n",
    "from kafka3 import KafkaProducer\n",
    "from kafka3 import KafkaConsumer\n",
    "import confluent_kafka"
   ]
  },
  {
   "cell_type": "markdown",
   "id": "2a386c27",
   "metadata": {},
   "source": [
    "# Communities comparison"
   ]
  },
  {
   "cell_type": "markdown",
   "id": "8f6b4eac",
   "metadata": {},
   "source": [
    "## Scraping Github figure"
   ]
  },
  {
   "cell_type": "markdown",
   "id": "dca0888f",
   "metadata": {},
   "source": [
    "Pykafka : https://github.com/Parsely/pykafka  \n",
    "Kafka Python : https://github.com/dpkp/kafka-python/  \n",
    "Confluent Kafka : https://github.com/confluentinc/confluent-kafka-python\n"
   ]
  },
  {
   "cell_type": "code",
   "execution_count": 2,
   "id": "a65320ec",
   "metadata": {},
   "outputs": [],
   "source": [
    "def scrap(url):\n",
    "    response = requests.get(url)\n",
    "    soup = BeautifulSoup(response.content, 'html.parser')\n",
    "    info =[]\n",
    "    for i in range(0,len(soup.find_all('div', class_='Layout-sidebar')[0].find_all('div', class_='mt-2'))):\n",
    "        info.append(\\\n",
    "        soup.find_all('div', class_='Layout-sidebar')[0].\\\n",
    "        find_all('div', class_='mt-2')[i].\\\n",
    "        text.replace('\\n', '').\\\n",
    "        replace('    ', ' ')\\\n",
    "        )\n",
    "    \n",
    "    if soup.find_all('div', class_='Layout-sidebar')[0].find_all('relative-time'):\n",
    "        date = soup.find_all('div', class_='Layout-sidebar')[0].find_all('relative-time')[0].text\n",
    "    else :\n",
    "        date = 'No offcial release'\n",
    "    \n",
    "    return [[x for x in info if 'stars' in x][0].replace('stars',\"\"),\\\n",
    "            [x for x in info if 'watching' in x][0].replace('watching',\"\"),\\\n",
    "            [x for x in info if 'forks' in x][0].replace('forks',\"\"),\\\n",
    "            date\n",
    "           ]\n",
    "\n",
    "def value_to_float(x):\n",
    "    if type(x) == float or type(x) == int:\n",
    "        return x\n",
    "    if 'k' in x:\n",
    "        if len(x) > 1:\n",
    "            return float(x.replace('k', '')) * 1000\n",
    "        return 1000.0\n",
    "    if 'm' in x:\n",
    "        if len(x) > 1:\n",
    "            return float(x.replace('m', '')) * 1000000\n",
    "        return 1000000.0\n",
    "    if 'b' in x:\n",
    "        return float(x.replace('b', '')) * 1000000000\n",
    "    return float(x)"
   ]
  },
  {
   "cell_type": "code",
   "execution_count": 3,
   "id": "7daf875d",
   "metadata": {},
   "outputs": [],
   "source": [
    "listeframework = ['Pykafka','Kafka Python','Confluent Python']\n",
    "\n",
    "\n",
    "listeurl = ['https://github.com/Parsely/pykafka',\n",
    "            'https://github.com/dpkp/kafka-python/',\n",
    "            'https://github.com/confluentinc/confluent-kafka-python']"
   ]
  },
  {
   "cell_type": "code",
   "execution_count": 4,
   "id": "a6bd0ccd",
   "metadata": {},
   "outputs": [],
   "source": [
    "dico = {listeframework[i]: scrap(listeurl[i]) for i in range(0, len(listeframework))}\n",
    "\n",
    "df = pd.DataFrame.from_dict(dico,orient='index',columns=['Stars','Watching','Forks','Laste release date'])\n",
    "\n"
   ]
  },
  {
   "cell_type": "code",
   "execution_count": 5,
   "id": "d4aab176",
   "metadata": {},
   "outputs": [],
   "source": [
    "df['Stars'] = df['Stars'].apply(value_to_float)\n",
    "df['Watching'] = df['Watching'].apply(value_to_float)\n",
    "df['Forks'] = df['Forks'].apply(value_to_float)\n",
    "\n"
   ]
  },
  {
   "cell_type": "markdown",
   "id": "14ad6257",
   "metadata": {},
   "source": [
    "## Table"
   ]
  },
  {
   "cell_type": "code",
   "execution_count": 6,
   "id": "ad69fc89",
   "metadata": {},
   "outputs": [
    {
     "data": {
      "text/html": [
       "<div>\n",
       "<style scoped>\n",
       "    .dataframe tbody tr th:only-of-type {\n",
       "        vertical-align: middle;\n",
       "    }\n",
       "\n",
       "    .dataframe tbody tr th {\n",
       "        vertical-align: top;\n",
       "    }\n",
       "\n",
       "    .dataframe thead th {\n",
       "        text-align: right;\n",
       "    }\n",
       "</style>\n",
       "<table border=\"1\" class=\"dataframe\">\n",
       "  <thead>\n",
       "    <tr style=\"text-align: right;\">\n",
       "      <th></th>\n",
       "      <th>Stars</th>\n",
       "      <th>Watching</th>\n",
       "      <th>Forks</th>\n",
       "      <th>Laste release date</th>\n",
       "    </tr>\n",
       "  </thead>\n",
       "  <tbody>\n",
       "    <tr>\n",
       "      <th>Pykafka</th>\n",
       "      <td>1100.0</td>\n",
       "      <td>74.0</td>\n",
       "      <td>230.0</td>\n",
       "      <td>Sep 24, 2018</td>\n",
       "    </tr>\n",
       "    <tr>\n",
       "      <th>Kafka Python</th>\n",
       "      <td>5100.0</td>\n",
       "      <td>155.0</td>\n",
       "      <td>1300.0</td>\n",
       "      <td>Sep 30, 2020</td>\n",
       "    </tr>\n",
       "    <tr>\n",
       "      <th>Confluent Python</th>\n",
       "      <td>3100.0</td>\n",
       "      <td>272.0</td>\n",
       "      <td>807.0</td>\n",
       "      <td>Aug 3, 2022</td>\n",
       "    </tr>\n",
       "  </tbody>\n",
       "</table>\n",
       "</div>"
      ],
      "text/plain": [
       "                   Stars  Watching   Forks Laste release date\n",
       "Pykafka           1100.0      74.0   230.0       Sep 24, 2018\n",
       "Kafka Python      5100.0     155.0  1300.0       Sep 30, 2020\n",
       "Confluent Python  3100.0     272.0   807.0        Aug 3, 2022"
      ]
     },
     "execution_count": 6,
     "metadata": {},
     "output_type": "execute_result"
    }
   ],
   "source": [
    "df"
   ]
  },
  {
   "cell_type": "markdown",
   "id": "21292665",
   "metadata": {},
   "source": [
    "#  Performance comparison "
   ]
  },
  {
   "cell_type": "code",
   "execution_count": 7,
   "id": "a3c975fe",
   "metadata": {},
   "outputs": [],
   "source": [
    "bootstrap_servers = 'localhost:9092'\n",
    "producer_timings = {}\n",
    "consumer_timings = {}"
   ]
  },
  {
   "cell_type": "code",
   "execution_count": 8,
   "id": "36557600",
   "metadata": {},
   "outputs": [
    {
     "name": "stdout",
     "output_type": "stream",
     "text": [
      "b'benchkafkabenchkafkabenchkafkabenchkafkabenchkafkabenchkafkabenchkafkabenchkafkabenchkafkabenchkafkabenchkafkabenchkafkabenchkafkabenchkafkabenchkafkabenchkafkabenchkafkabenchkafkabenchkafkabenchkafka'\n",
      "200\n"
     ]
    }
   ],
   "source": [
    "msg_count = 1_000_000\n",
    "msg_size = 200\n",
    "msg_payload = ('benchkafka' * 2000).encode()[:msg_size]\n",
    "print(msg_payload)\n",
    "print(len(msg_payload))"
   ]
  },
  {
   "cell_type": "code",
   "execution_count": 9,
   "id": "bf13e711",
   "metadata": {},
   "outputs": [],
   "source": [
    "def calculate_thoughput(timing, n_messages=1000000, msg_size=100):\n",
    "    print(\"Processed {0} messsages in {1:.2f} seconds\".format(n_messages, timing))\n",
    "    print(\"{0:.2f} MB/s\".format((msg_size * n_messages) / timing / (1024*1024)))\n",
    "    print(\"{0:.2f} Msgs/s\".format(n_messages / timing))"
   ]
  },
  {
   "cell_type": "markdown",
   "id": "70f67b94",
   "metadata": {},
   "source": [
    "## Pykafka"
   ]
  },
  {
   "cell_type": "code",
   "execution_count": 10,
   "id": "579ad03c",
   "metadata": {},
   "outputs": [],
   "source": [
    "\n",
    "def pykafka_producer_performance(use_rdkafka=False):\n",
    "    \n",
    "    # Setup client\n",
    "    client = KafkaClient(hosts=bootstrap_servers)\n",
    "    topic = client.topics[b'pykafka-test-topic']\n",
    "    producer = topic.get_producer(use_rdkafka=use_rdkafka)\n",
    "\n",
    "    msgs_produced = 0\n",
    "    produce_start = time.time()\n",
    "    for i in range(msg_count):\n",
    "        # Start producing\n",
    "        producer.produce(msg_payload) \n",
    "                     \n",
    "    producer.stop() # Will flush background queue\n",
    " \n",
    "    return time.time() - produce_start\n"
   ]
  },
  {
   "cell_type": "code",
   "execution_count": 11,
   "id": "5d7b0b4e",
   "metadata": {},
   "outputs": [
    {
     "name": "stdout",
     "output_type": "stream",
     "text": [
      "Processed 1000000 messsages in 29.95 seconds\n",
      "3.18 MB/s\n",
      "33393.55 Msgs/s\n"
     ]
    }
   ],
   "source": [
    "client = KafkaClient(hosts=bootstrap_servers)\n",
    "producer_timings['pykafka'] = pykafka_producer_performance()\n",
    "calculate_thoughput(producer_timings['pykafka'])"
   ]
  },
  {
   "cell_type": "code",
   "execution_count": 12,
   "id": "4a08d549",
   "metadata": {},
   "outputs": [],
   "source": [
    "def pykafka_consumer_performance(use_rdkafka=False):\n",
    "    # Setup client\n",
    "    client = KafkaClient(hosts=bootstrap_servers)\n",
    "    topic = client.topics[b'pykafka-test-topic']\n",
    "\n",
    "    msg_consumed_count = 0\n",
    "    \n",
    "    consumer_start = time.time()\n",
    "    # Consumer starts polling messages in background thread, need to start timer here\n",
    "    consumer = topic.get_simple_consumer(use_rdkafka=use_rdkafka)\n",
    "\n",
    "    while True:\n",
    "        msg = consumer.consume()\n",
    "        if msg:\n",
    "            msg_consumed_count += 1\n",
    "\n",
    "        if msg_consumed_count >= msg_count:\n",
    "            break\n",
    "                        \n",
    "    consumer_timing = time.time() - consumer_start\n",
    "    consumer.stop()    \n",
    "    return consumer_timing"
   ]
  },
  {
   "cell_type": "code",
   "execution_count": 13,
   "id": "4aec7023",
   "metadata": {},
   "outputs": [
    {
     "name": "stdout",
     "output_type": "stream",
     "text": [
      "Processed 1000000 messsages in 33.24 seconds\n",
      "2.87 MB/s\n",
      "30086.93 Msgs/s\n"
     ]
    }
   ],
   "source": [
    "consumer_timings['pykafka'] = pykafka_consumer_performance(use_rdkafka=False)\n",
    "calculate_thoughput(consumer_timings['pykafka'])"
   ]
  },
  {
   "cell_type": "markdown",
   "id": "a4193a64",
   "metadata": {},
   "source": [
    "## Kafka Python"
   ]
  },
  {
   "cell_type": "code",
   "execution_count": 14,
   "id": "7feb1a44",
   "metadata": {},
   "outputs": [],
   "source": [
    "def python_kafka_producer_performance():\n",
    "    producer = KafkaProducer(bootstrap_servers=bootstrap_servers)\n",
    "\n",
    "    producer_start = time.time()\n",
    "    topic = 'python-kafka-topic'\n",
    "    for i in range(msg_count):\n",
    "        producer.send(topic, msg_payload)\n",
    "        \n",
    "    producer.flush() # clear all local buffers and produce pending messages\n",
    "        \n",
    "    return time.time() - producer_start"
   ]
  },
  {
   "cell_type": "code",
   "execution_count": 15,
   "id": "34dd12b6",
   "metadata": {},
   "outputs": [
    {
     "name": "stdout",
     "output_type": "stream",
     "text": [
      "Processed 1000000 messsages in 113.06 seconds\n",
      "0.84 MB/s\n",
      "8844.54 Msgs/s\n"
     ]
    }
   ],
   "source": [
    "producer_timings['python_kafka'] = python_kafka_producer_performance()\n",
    "calculate_thoughput(producer_timings['python_kafka'])"
   ]
  },
  {
   "cell_type": "code",
   "execution_count": 16,
   "id": "e3d30db4",
   "metadata": {},
   "outputs": [],
   "source": [
    "\n",
    "def python_kafka_consumer_performance():\n",
    "    topic = 'python-kafka-topic'\n",
    "\n",
    "    consumer = KafkaConsumer(\n",
    "        bootstrap_servers=bootstrap_servers,\n",
    "        auto_offset_reset = 'earliest', # start at earliest topic\n",
    "        group_id = None # do no offest commit\n",
    "    )\n",
    "    msg_consumed_count = 0\n",
    "            \n",
    "    consumer_start = time.time()\n",
    "    consumer.subscribe([topic])\n",
    "    for msg in consumer:\n",
    "        msg_consumed_count += 1\n",
    "        \n",
    "        if msg_consumed_count >= msg_count:\n",
    "            break\n",
    "                    \n",
    "    consumer_timing = time.time() - consumer_start\n",
    "    consumer.close()    \n",
    "    return consumer_timing"
   ]
  },
  {
   "cell_type": "code",
   "execution_count": 17,
   "id": "5afd85b8",
   "metadata": {},
   "outputs": [
    {
     "name": "stdout",
     "output_type": "stream",
     "text": [
      "Processed 1000000 messsages in 21.50 seconds\n",
      "4.44 MB/s\n",
      "46511.32 Msgs/s\n"
     ]
    }
   ],
   "source": [
    "consumer_timings['python_kafka'] = python_kafka_consumer_performance()\n",
    "calculate_thoughput(consumer_timings['python_kafka'])"
   ]
  },
  {
   "cell_type": "markdown",
   "id": "5a721ef7",
   "metadata": {},
   "source": [
    "## Confluent Kafka"
   ]
  },
  {
   "cell_type": "code",
   "execution_count": 18,
   "id": "be3665ff",
   "metadata": {},
   "outputs": [
    {
     "data": {
      "text/html": [
       "<div>\n",
       "<style scoped>\n",
       "    .dataframe tbody tr th:only-of-type {\n",
       "        vertical-align: middle;\n",
       "    }\n",
       "\n",
       "    .dataframe tbody tr th {\n",
       "        vertical-align: top;\n",
       "    }\n",
       "\n",
       "    .dataframe thead th {\n",
       "        text-align: right;\n",
       "    }\n",
       "</style>\n",
       "<table border=\"1\" class=\"dataframe\">\n",
       "  <thead>\n",
       "    <tr style=\"text-align: right;\">\n",
       "      <th></th>\n",
       "    </tr>\n",
       "  </thead>\n",
       "  <tbody>\n",
       "  </tbody>\n",
       "</table>\n",
       "</div>"
      ],
      "text/plain": [
       "Empty DataFrame\n",
       "Columns: []\n",
       "Index: []"
      ]
     },
     "execution_count": 18,
     "metadata": {},
     "output_type": "execute_result"
    }
   ],
   "source": [
    "pd.DataFrame()"
   ]
  },
  {
   "cell_type": "code",
   "execution_count": null,
   "id": "ad24e9c7",
   "metadata": {},
   "outputs": [],
   "source": []
  },
  {
   "cell_type": "code",
   "execution_count": 19,
   "id": "4bb9f943",
   "metadata": {},
   "outputs": [],
   "source": [
    "topic = 'confluent-kafka-topic'\n",
    "\n",
    "def confluent_kafka_producer_performance():\n",
    "    \n",
    "    topic = 'confluent-kafka-topic'\n",
    "    conf = {'bootstrap.servers': bootstrap_servers}\n",
    "    producer = confluent_kafka.Producer(**conf)\n",
    "    messages_to_retry = 0\n",
    "\n",
    "    producer_start = time.time()\n",
    "    for i in range(msg_count):\n",
    "        try:\n",
    "            producer.produce(topic, value=msg_payload)      \n",
    "        except BufferError as e:\n",
    "            messages_to_retry += 1\n",
    "\n",
    "    # hacky retry messages that over filled the local buffer\n",
    "    for i in range(messages_to_retry):\n",
    "        producer.poll(0)\n",
    "        try:\n",
    "            producer.produce(topic, value=msg_payload)\n",
    "        except BufferError as e:\n",
    "            producer.poll(0)\n",
    "            producer.produce(topic, value=msg_payload)\n",
    "\n",
    "    producer.flush()\n",
    "            \n",
    "    return time.time() - producer_start"
   ]
  },
  {
   "cell_type": "code",
   "execution_count": 20,
   "id": "af3a4d83",
   "metadata": {},
   "outputs": [],
   "source": [
    "producer = confluent_kafka.Producer({'bootstrap.servers': bootstrap_servers})\n",
    "#producer.flush()\n",
    "#producer.poll()"
   ]
  },
  {
   "cell_type": "code",
   "execution_count": 21,
   "id": "3b0a0d8e",
   "metadata": {},
   "outputs": [
    {
     "name": "stdout",
     "output_type": "stream",
     "text": [
      "Processed 1000000 messsages in 3.03 seconds\n",
      "31.52 MB/s\n",
      "330511.09 Msgs/s\n"
     ]
    }
   ],
   "source": [
    "producer_timings['confluent_kafka'] = confluent_kafka_producer_performance()\n",
    "calculate_thoughput(producer_timings['confluent_kafka'])"
   ]
  },
  {
   "cell_type": "code",
   "execution_count": 22,
   "id": "68ab88d6",
   "metadata": {},
   "outputs": [
    {
     "name": "stdout",
     "output_type": "stream",
     "text": [
      "{0: OffsetPartitionResponse(offset=[10877671], err=0)}\n",
      "{0: OffsetPartitionResponse(offset=[12918221], err=0)}\n"
     ]
    }
   ],
   "source": [
    "client = KafkaClient(hosts=bootstrap_servers)\n",
    "topic = client.topics[b'confluent-kafka-topic']\n",
    "print(topic.earliest_available_offsets())\n",
    "print(topic.latest_available_offsets())"
   ]
  },
  {
   "cell_type": "code",
   "execution_count": 23,
   "id": "bcbd521c",
   "metadata": {},
   "outputs": [],
   "source": [
    "def confluent_kafka_consumer_performance():\n",
    "    \n",
    "    topic = 'confluent-kafka-topic'\n",
    "    msg_consumed_count = 0\n",
    "    conf = {'bootstrap.servers': bootstrap_servers,\n",
    "            'group.id': uuid.uuid1(),\n",
    "            'session.timeout.ms': 6000,\n",
    "            'default.topic.config': {\n",
    "                'auto.offset.reset': 'earliest'\n",
    "            }\n",
    "    }\n",
    "\n",
    "    consumer = confluent_kafka.Consumer(**conf)\n",
    "\n",
    "    consumer_start = time.time()\n",
    "    # This is the same as pykafka, subscribing to a topic will start a background thread\n",
    "    consumer.subscribe([topic])\n",
    "\n",
    "    while True:\n",
    "        msg = consumer.poll(1)\n",
    "        if msg:\n",
    "            msg_consumed_count += 1\n",
    "                         \n",
    "        if msg_consumed_count >= msg_count:\n",
    "            break\n",
    "                    \n",
    "    consumer_timing = time.time() - consumer_start\n",
    "    consumer.close()    \n",
    "    return consumer_timing"
   ]
  },
  {
   "cell_type": "code",
   "execution_count": 24,
   "id": "3af1ecbe",
   "metadata": {},
   "outputs": [
    {
     "name": "stdout",
     "output_type": "stream",
     "text": [
      "Processed 1000000 messsages in 8.20 seconds\n",
      "11.63 MB/s\n",
      "121904.58 Msgs/s\n"
     ]
    }
   ],
   "source": [
    "#_ = confluent_kafka_consumer_performance() # Warm cache\n",
    "consumer_timings['confluent_kafka'] = confluent_kafka_consumer_performance()\n",
    "calculate_thoughput(consumer_timings['confluent_kafka'])"
   ]
  },
  {
   "cell_type": "markdown",
   "id": "98c95e2e",
   "metadata": {},
   "source": [
    "## Dataframes"
   ]
  },
  {
   "cell_type": "code",
   "execution_count": 25,
   "id": "abd6fb45",
   "metadata": {},
   "outputs": [],
   "source": [
    "consumer_df = pd.DataFrame.from_dict(consumer_timings, orient='index').rename(columns={0: 'time_in_seconds'})\n",
    "producer_df = pd.DataFrame.from_dict(producer_timings, orient='index').rename(columns={0: 'time_in_seconds'})\n",
    "consumer_df['MBs/s'] = (len(msg_payload) * msg_count) / consumer_df.time_in_seconds / (1024*1024)\n",
    "producer_df['MBs/s'] = (len(msg_payload) * msg_count) / producer_df.time_in_seconds / (1024*1024)\n",
    "consumer_df['Msgs/s'] = msg_count / consumer_df.time_in_seconds\n",
    "producer_df['Msgs/s'] = msg_count / producer_df.time_in_seconds"
   ]
  },
  {
   "cell_type": "code",
   "execution_count": 26,
   "id": "eea6d0ff",
   "metadata": {},
   "outputs": [
    {
     "data": {
      "text/html": [
       "<div>\n",
       "<style scoped>\n",
       "    .dataframe tbody tr th:only-of-type {\n",
       "        vertical-align: middle;\n",
       "    }\n",
       "\n",
       "    .dataframe tbody tr th {\n",
       "        vertical-align: top;\n",
       "    }\n",
       "\n",
       "    .dataframe thead th {\n",
       "        text-align: right;\n",
       "    }\n",
       "</style>\n",
       "<table border=\"1\" class=\"dataframe\">\n",
       "  <thead>\n",
       "    <tr style=\"text-align: right;\">\n",
       "      <th></th>\n",
       "      <th>time_in_seconds</th>\n",
       "      <th>MBs/s</th>\n",
       "      <th>Msgs/s</th>\n",
       "    </tr>\n",
       "  </thead>\n",
       "  <tbody>\n",
       "    <tr>\n",
       "      <th>pykafka</th>\n",
       "      <td>29.945905</td>\n",
       "      <td>6.369314</td>\n",
       "      <td>33393.547764</td>\n",
       "    </tr>\n",
       "    <tr>\n",
       "      <th>python_kafka</th>\n",
       "      <td>113.064099</td>\n",
       "      <td>1.686962</td>\n",
       "      <td>8844.540470</td>\n",
       "    </tr>\n",
       "    <tr>\n",
       "      <th>confluent_kafka</th>\n",
       "      <td>3.025617</td>\n",
       "      <td>63.039987</td>\n",
       "      <td>330511.085660</td>\n",
       "    </tr>\n",
       "  </tbody>\n",
       "</table>\n",
       "</div>"
      ],
      "text/plain": [
       "                 time_in_seconds      MBs/s         Msgs/s\n",
       "pykafka                29.945905   6.369314   33393.547764\n",
       "python_kafka          113.064099   1.686962    8844.540470\n",
       "confluent_kafka         3.025617  63.039987  330511.085660"
      ]
     },
     "execution_count": 26,
     "metadata": {},
     "output_type": "execute_result"
    }
   ],
   "source": [
    "#producer_df.sort_index(inplace=True)\n",
    "producer_df"
   ]
  },
  {
   "cell_type": "markdown",
   "id": "9c4a03de",
   "metadata": {},
   "source": [
    "## Graphic comparison (plots)"
   ]
  },
  {
   "cell_type": "markdown",
   "id": "5fec02a4",
   "metadata": {},
   "source": [
    "### Megabyte and messages number per second"
   ]
  },
  {
   "cell_type": "code",
   "execution_count": 27,
   "id": "468643a0",
   "metadata": {},
   "outputs": [],
   "source": [
    "producer_df['k Msgs/s'] = producer_df['Msgs/s']/1000\n",
    "consumer_df['k Msgs/s'] = consumer_df['Msgs/s']/1000"
   ]
  },
  {
   "cell_type": "code",
   "execution_count": 28,
   "id": "54112545",
   "metadata": {},
   "outputs": [
    {
     "data": {
      "image/png": "[encoded data removed]",
      "text/plain": [
       "<Figure size 1000x500 with 2 Axes>"
      ]
     },
     "metadata": {},
     "output_type": "display_data"
    }
   ],
   "source": [
    "fig, axes = plt.subplots(nrows=1, ncols=2)\n",
    "ax = producer_df[['MBs/s','k Msgs/s']].plot(kind='barh',\\\n",
    "                                             ylabel='Python libraries',\\\n",
    "                                            title='Sending Messages',\\\n",
    "                                            figsize=(10, 5),ax=axes[0])\n",
    "ax.set(xlabel='')\n",
    "\n",
    "for c in ax.containers:\n",
    "    ax.bar_label(c, fmt='%.0f', label_type='edge')    \n",
    "ax.margins(x=0.1)\n",
    "ax.get_legend().remove()\n",
    "\n",
    "\n",
    "\n",
    "ax = consumer_df[['MBs/s','k Msgs/s']].plot(kind='barh',\\\n",
    "                                            ylabel='',\\\n",
    "                                            title='Receiving Messages',\\\n",
    "                                            figsize=(10, 5),ax=axes[1])\n",
    "\n",
    "\n",
    "for c in ax.containers:\n",
    "    ax.bar_label(c, fmt='%.0f', label_type='edge') \n",
    "ax.margins(x=0.1)\n",
    "ax.legend(title='', bbox_to_anchor=(1, 1.02), loc='lower left')\n",
    "ax.get_yaxis().set_visible(False)\n"
   ]
  },
  {
   "cell_type": "markdown",
   "id": "b42f65da",
   "metadata": {},
   "source": [
    "### Reception and sending time"
   ]
  },
  {
   "cell_type": "code",
   "execution_count": 29,
   "id": "7e9d608f",
   "metadata": {},
   "outputs": [],
   "source": [
    "df_time = pd.DataFrame([producer_df['time_in_seconds'],\\\n",
    "                        consumer_df['time_in_seconds']],\\\n",
    "                       index=['Producer (reception)','Consumer (sending)'])"
   ]
  },
  {
   "cell_type": "code",
   "execution_count": 30,
   "id": "7ef2a6e8",
   "metadata": {},
   "outputs": [
    {
     "data": {
      "text/plain": [
       "<matplotlib.legend.Legend at 0x129dba500>"
      ]
     },
     "execution_count": 30,
     "metadata": {},
     "output_type": "execute_result"
    },
    {
     "data": {
      "image/png": "[encoded data removed]",
      "text/plain": [
       "<Figure size 500x400 with 1 Axes>"
      ]
     },
     "metadata": {},
     "output_type": "display_data"
    }
   ],
   "source": [
    "ax = pd.DataFrame(df_time)\\\n",
    ".plot(kind='barh', title='Time in seconds', figsize=(5, 4))\n",
    "ax.set(xlabel='')\n",
    "\n",
    "for c in ax.containers:\n",
    "    ax.bar_label(c, fmt='%.0f', label_type='edge')\n",
    "    \n",
    "ax.margins(x=0.1)\n",
    "\n",
    "ax.legend(title='', bbox_to_anchor=(1, 1.02), loc='upper left')"
   ]
  },
  {
   "cell_type": "markdown",
   "id": "d12ec272",
   "metadata": {},
   "source": [
    "# Understanding"
   ]
  },
  {
   "cell_type": "markdown",
   "id": "74c50399",
   "metadata": {},
   "source": [
    "Confluent Kafka is a Python wrapper around the librdkafka C library, so you have the guarantee it's going to be the most performant and compatible option."
   ]
  },
  {
   "cell_type": "markdown",
   "id": "c2a66e8e",
   "metadata": {},
   "source": [
    " Kafka python is implemented fully in python. Slow speed performance."
   ]
  },
  {
   "cell_type": "markdown",
   "id": "4096721a",
   "metadata": {},
   "source": [
    "Sources : https://towardsdatascience.com/3-libraries-you-should-know-to-master-apache-kafka-in-python-c95fdf8700f2  \n",
    "https://stackoverflow.com/questions/73049329/python-kafka-consumer-library-that-supports-scalability-and-recoverability\n",
    "http://activisiongamescience.github.io/2016/06/15/Kafka-Client-Benchmarking/"
   ]
  },
  {
   "cell_type": "code",
   "execution_count": null,
   "id": "5da61b31",
   "metadata": {},
   "outputs": [],
   "source": []
  }
 ],
 "metadata": {
  "kernelspec": {
   "display_name": "Python 3 (ipykernel)",
   "language": "python",
   "name": "python3"
  },
  "language_info": {
   "codemirror_mode": {
    "name": "ipython",
    "version": 3
   },
   "file_extension": ".py",
   "mimetype": "text/x-python",
   "name": "python",
   "nbconvert_exporter": "python",
   "pygments_lexer": "ipython3",
   "version": "3.10.6"
  },
  "toc": {
   "base_numbering": 1,
   "nav_menu": {},
   "number_sections": true,
   "sideBar": true,
   "skip_h1_title": false,
   "title_cell": "Table of Contents",
   "title_sidebar": "Contents",
   "toc_cell": false,
   "toc_position": {},
   "toc_section_display": true,
   "toc_window_display": false
  }
 },
 "nbformat": 4,
 "nbformat_minor": 5
}
